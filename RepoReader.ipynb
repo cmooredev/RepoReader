{
 "cells": [
  {
   "cell_type": "markdown",
   "id": "16deed02",
   "metadata": {},
   "source": [
    "## Install dependencies in Jupyter NB"
   ]
  },
  {
   "cell_type": "code",
   "execution_count": 1,
   "id": "28e6d6be",
   "metadata": {},
   "outputs": [
    {
     "name": "stdout",
     "output_type": "stream",
     "text": [
      "Requirement already satisfied: aiohttp==3.8.4 in /opt/anaconda3/lib/python3.8/site-packages (from -r requirements.txt (line 1)) (3.8.4)\r\n",
      "Requirement already satisfied: aiosignal==1.3.1 in /opt/anaconda3/lib/python3.8/site-packages (from -r requirements.txt (line 2)) (1.3.1)\r\n",
      "Requirement already satisfied: antlr4-python3-runtime==4.9.3 in /opt/anaconda3/lib/python3.8/site-packages (from -r requirements.txt (line 3)) (4.9.3)\r\n",
      "Requirement already satisfied: anyio==3.6.2 in /opt/anaconda3/lib/python3.8/site-packages (from -r requirements.txt (line 4)) (3.6.2)\r\n",
      "Requirement already satisfied: argilla==1.6.0 in /opt/anaconda3/lib/python3.8/site-packages (from -r requirements.txt (line 5)) (1.6.0)\r\n",
      "Requirement already satisfied: async-timeout==4.0.2 in /opt/anaconda3/lib/python3.8/site-packages (from -r requirements.txt (line 6)) (4.0.2)\r\n",
      "Requirement already satisfied: attrs==22.2.0 in /opt/anaconda3/lib/python3.8/site-packages (from -r requirements.txt (line 7)) (22.2.0)\r\n",
      "Requirement already satisfied: backoff==2.2.1 in /opt/anaconda3/lib/python3.8/site-packages (from -r requirements.txt (line 8)) (2.2.1)\r\n",
      "Requirement already satisfied: certifi==2022.12.7 in /opt/anaconda3/lib/python3.8/site-packages (from -r requirements.txt (line 9)) (2022.12.7)\r\n",
      "Requirement already satisfied: cffi==1.15.1 in /opt/anaconda3/lib/python3.8/site-packages (from -r requirements.txt (line 10)) (1.15.1)\r\n",
      "Requirement already satisfied: chardet==5.1.0 in /opt/anaconda3/lib/python3.8/site-packages (from -r requirements.txt (line 11)) (5.1.0)\r\n",
      "Requirement already satisfied: charset-normalizer==3.1.0 in /opt/anaconda3/lib/python3.8/site-packages (from -r requirements.txt (line 12)) (3.1.0)\r\n",
      "Requirement already satisfied: chromadb==0.3.21 in /opt/anaconda3/lib/python3.8/site-packages (from -r requirements.txt (line 13)) (0.3.21)\r\n",
      "Requirement already satisfied: click==8.1.3 in /opt/anaconda3/lib/python3.8/site-packages (from -r requirements.txt (line 14)) (8.1.3)\r\n",
      "Requirement already satisfied: clickhouse-connect==0.5.20 in /opt/anaconda3/lib/python3.8/site-packages (from -r requirements.txt (line 15)) (0.5.20)\r\n",
      "Requirement already satisfied: coloredlogs==15.0.1 in /opt/anaconda3/lib/python3.8/site-packages (from -r requirements.txt (line 16)) (15.0.1)\r\n",
      "Requirement already satisfied: commonmark==0.9.1 in /opt/anaconda3/lib/python3.8/site-packages (from -r requirements.txt (line 17)) (0.9.1)\r\n",
      "Requirement already satisfied: contourpy==1.1.0 in /opt/anaconda3/lib/python3.8/site-packages (from -r requirements.txt (line 18)) (1.1.0)\r\n",
      "Requirement already satisfied: cryptography==41.0.2 in /opt/anaconda3/lib/python3.8/site-packages (from -r requirements.txt (line 19)) (41.0.2)\r\n",
      "Requirement already satisfied: cycler==0.11.0 in /opt/anaconda3/lib/python3.8/site-packages (from -r requirements.txt (line 20)) (0.11.0)\r\n",
      "Requirement already satisfied: dataclasses-json==0.5.7 in /opt/anaconda3/lib/python3.8/site-packages (from -r requirements.txt (line 21)) (0.5.7)\r\n",
      "Requirement already satisfied: Deprecated==1.2.13 in /opt/anaconda3/lib/python3.8/site-packages (from -r requirements.txt (line 22)) (1.2.13)\r\n",
      "Requirement already satisfied: duckdb==0.7.1 in /opt/anaconda3/lib/python3.8/site-packages (from -r requirements.txt (line 23)) (0.7.1)\r\n",
      "Requirement already satisfied: effdet==0.4.1 in /opt/anaconda3/lib/python3.8/site-packages (from -r requirements.txt (line 24)) (0.4.1)\r\n",
      "Requirement already satisfied: et-xmlfile==1.1.0 in /opt/anaconda3/lib/python3.8/site-packages (from -r requirements.txt (line 25)) (1.1.0)\r\n",
      "Requirement already satisfied: fastapi==0.95.0 in /opt/anaconda3/lib/python3.8/site-packages (from -r requirements.txt (line 26)) (0.95.0)\r\n",
      "Requirement already satisfied: filelock==3.11.0 in /opt/anaconda3/lib/python3.8/site-packages (from -r requirements.txt (line 27)) (3.11.0)\r\n",
      "Requirement already satisfied: filetype==1.2.0 in /opt/anaconda3/lib/python3.8/site-packages (from -r requirements.txt (line 28)) (1.2.0)\r\n",
      "Requirement already satisfied: flatbuffers==23.5.26 in /opt/anaconda3/lib/python3.8/site-packages (from -r requirements.txt (line 29)) (23.5.26)\r\n",
      "Requirement already satisfied: fonttools==4.41.0 in /opt/anaconda3/lib/python3.8/site-packages (from -r requirements.txt (line 30)) (4.41.0)\r\n",
      "Requirement already satisfied: frozenlist==1.3.3 in /opt/anaconda3/lib/python3.8/site-packages (from -r requirements.txt (line 31)) (1.3.3)\r\n",
      "Requirement already satisfied: greenlet==2.0.2 in /opt/anaconda3/lib/python3.8/site-packages (from -r requirements.txt (line 32)) (2.0.2)\r\n",
      "Requirement already satisfied: h11==0.14.0 in /opt/anaconda3/lib/python3.8/site-packages (from -r requirements.txt (line 33)) (0.14.0)\r\n",
      "Requirement already satisfied: hnswlib==0.7.0 in /opt/anaconda3/lib/python3.8/site-packages (from -r requirements.txt (line 34)) (0.7.0)\r\n",
      "Requirement already satisfied: httpcore==0.16.3 in /opt/anaconda3/lib/python3.8/site-packages (from -r requirements.txt (line 35)) (0.16.3)\r\n",
      "Requirement already satisfied: httptools==0.5.0 in /opt/anaconda3/lib/python3.8/site-packages (from -r requirements.txt (line 36)) (0.5.0)\r\n",
      "Requirement already satisfied: httpx==0.23.3 in /opt/anaconda3/lib/python3.8/site-packages (from -r requirements.txt (line 37)) (0.23.3)\r\n",
      "Requirement already satisfied: huggingface-hub==0.13.4 in /opt/anaconda3/lib/python3.8/site-packages (from -r requirements.txt (line 38)) (0.13.4)\r\n",
      "Requirement already satisfied: humanfriendly==10.0 in /opt/anaconda3/lib/python3.8/site-packages (from -r requirements.txt (line 39)) (10.0)\r\n",
      "Requirement already satisfied: idna==3.4 in /opt/anaconda3/lib/python3.8/site-packages (from -r requirements.txt (line 40)) (3.4)\r\n",
      "Requirement already satisfied: importlib-metadata==6.8.0 in /opt/anaconda3/lib/python3.8/site-packages (from -r requirements.txt (line 41)) (6.8.0)\r\n",
      "Requirement already satisfied: importlib-resources==6.0.0 in /opt/anaconda3/lib/python3.8/site-packages (from -r requirements.txt (line 42)) (6.0.0)\r\n",
      "Requirement already satisfied: iopath==0.1.10 in /opt/anaconda3/lib/python3.8/site-packages (from -r requirements.txt (line 43)) (0.1.10)\r\n",
      "Requirement already satisfied: Jinja2==3.1.2 in /opt/anaconda3/lib/python3.8/site-packages (from -r requirements.txt (line 44)) (3.1.2)\r\n",
      "Requirement already satisfied: joblib==1.2.0 in /opt/anaconda3/lib/python3.8/site-packages (from -r requirements.txt (line 45)) (1.2.0)\r\n",
      "Requirement already satisfied: kiwisolver==1.4.4 in /opt/anaconda3/lib/python3.8/site-packages (from -r requirements.txt (line 46)) (1.4.4)\r\n",
      "Requirement already satisfied: langchain==0.0.136 in /opt/anaconda3/lib/python3.8/site-packages (from -r requirements.txt (line 47)) (0.0.136)\r\n",
      "Requirement already satisfied: layoutparser==0.3.4 in /opt/anaconda3/lib/python3.8/site-packages (from -r requirements.txt (line 48)) (0.3.4)\r\n",
      "Requirement already satisfied: lxml==4.9.2 in /opt/anaconda3/lib/python3.8/site-packages (from -r requirements.txt (line 49)) (4.9.2)\r\n",
      "Requirement already satisfied: lz4==4.3.2 in /opt/anaconda3/lib/python3.8/site-packages (from -r requirements.txt (line 50)) (4.3.2)\r\n",
      "Requirement already satisfied: Markdown==3.4.3 in /opt/anaconda3/lib/python3.8/site-packages (from -r requirements.txt (line 51)) (3.4.3)\r\n",
      "Requirement already satisfied: MarkupSafe==2.1.2 in /opt/anaconda3/lib/python3.8/site-packages (from -r requirements.txt (line 52)) (2.1.2)\r\n",
      "Requirement already satisfied: marshmallow==3.19.0 in /opt/anaconda3/lib/python3.8/site-packages (from -r requirements.txt (line 53)) (3.19.0)\r\n",
      "Requirement already satisfied: marshmallow-enum==1.5.1 in /opt/anaconda3/lib/python3.8/site-packages (from -r requirements.txt (line 54)) (1.5.1)\r\n",
      "Requirement already satisfied: matplotlib==3.7.2 in /opt/anaconda3/lib/python3.8/site-packages (from -r requirements.txt (line 55)) (3.7.2)\r\n",
      "Requirement already satisfied: monotonic==1.6 in /opt/anaconda3/lib/python3.8/site-packages (from -r requirements.txt (line 56)) (1.6)\r\n",
      "Requirement already satisfied: mpmath==1.3.0 in /opt/anaconda3/lib/python3.8/site-packages (from -r requirements.txt (line 57)) (1.3.0)\r\n",
      "Requirement already satisfied: msg-parser==1.2.0 in /opt/anaconda3/lib/python3.8/site-packages (from -r requirements.txt (line 58)) (1.2.0)\r\n",
      "Requirement already satisfied: multidict==6.0.4 in /opt/anaconda3/lib/python3.8/site-packages (from -r requirements.txt (line 59)) (6.0.4)\r\n",
      "Requirement already satisfied: mypy-extensions==1.0.0 in /opt/anaconda3/lib/python3.8/site-packages (from -r requirements.txt (line 60)) (1.0.0)\r\n",
      "Requirement already satisfied: networkx==3.1 in /opt/anaconda3/lib/python3.8/site-packages (from -r requirements.txt (line 61)) (3.1)\r\n",
      "Requirement already satisfied: nltk==3.8.1 in /opt/anaconda3/lib/python3.8/site-packages (from -r requirements.txt (line 62)) (3.8.1)\r\n",
      "Requirement already satisfied: numpy==1.23.5 in /opt/anaconda3/lib/python3.8/site-packages (from -r requirements.txt (line 63)) (1.23.5)\r\n",
      "Requirement already satisfied: olefile==0.46 in /opt/anaconda3/lib/python3.8/site-packages (from -r requirements.txt (line 64)) (0.46)\r\n",
      "Requirement already satisfied: omegaconf==2.3.0 in /opt/anaconda3/lib/python3.8/site-packages (from -r requirements.txt (line 65)) (2.3.0)\r\n",
      "Requirement already satisfied: onnxruntime==1.15.1 in /opt/anaconda3/lib/python3.8/site-packages (from -r requirements.txt (line 66)) (1.15.1)\r\n",
      "Requirement already satisfied: openai==0.27.4 in /opt/anaconda3/lib/python3.8/site-packages (from -r requirements.txt (line 67)) (0.27.4)\r\n",
      "Requirement already satisfied: openapi-schema-pydantic==1.2.4 in /opt/anaconda3/lib/python3.8/site-packages (from -r requirements.txt (line 68)) (1.2.4)\r\n",
      "Requirement already satisfied: opencv-python==4.6.0.66 in /opt/anaconda3/lib/python3.8/site-packages (from -r requirements.txt (line 69)) (4.6.0.66)\r\n",
      "Requirement already satisfied: openpyxl==3.1.2 in /opt/anaconda3/lib/python3.8/site-packages (from -r requirements.txt (line 70)) (3.1.2)\r\n",
      "Requirement already satisfied: packaging==23.0 in /opt/anaconda3/lib/python3.8/site-packages (from -r requirements.txt (line 71)) (23.0)\r\n",
      "Requirement already satisfied: pandas==1.5.3 in /opt/anaconda3/lib/python3.8/site-packages (from -r requirements.txt (line 72)) (1.5.3)\r\n",
      "Requirement already satisfied: pdf2image==1.16.3 in /opt/anaconda3/lib/python3.8/site-packages (from -r requirements.txt (line 73)) (1.16.3)\r\n",
      "Requirement already satisfied: pdfminer.six==20221105 in /opt/anaconda3/lib/python3.8/site-packages (from -r requirements.txt (line 74)) (20221105)\r\n",
      "Requirement already satisfied: pdfplumber==0.9.0 in /opt/anaconda3/lib/python3.8/site-packages (from -r requirements.txt (line 75)) (0.9.0)\r\n",
      "Requirement already satisfied: Pillow==9.5.0 in /opt/anaconda3/lib/python3.8/site-packages (from -r requirements.txt (line 76)) (9.5.0)\r\n",
      "Requirement already satisfied: portalocker==2.7.0 in /opt/anaconda3/lib/python3.8/site-packages (from -r requirements.txt (line 77)) (2.7.0)\r\n",
      "Requirement already satisfied: posthog==2.5.0 in /opt/anaconda3/lib/python3.8/site-packages (from -r requirements.txt (line 78)) (2.5.0)\r\n",
      "Requirement already satisfied: protobuf==4.23.4 in /opt/anaconda3/lib/python3.8/site-packages (from -r requirements.txt (line 79)) (4.23.4)\r\n",
      "Requirement already satisfied: pycocotools==2.0.6 in /opt/anaconda3/lib/python3.8/site-packages (from -r requirements.txt (line 80)) (2.0.6)\r\n",
      "Requirement already satisfied: pycparser==2.21 in /opt/anaconda3/lib/python3.8/site-packages (from -r requirements.txt (line 81)) (2.21)\r\n",
      "Requirement already satisfied: pydantic==1.10.7 in /opt/anaconda3/lib/python3.8/site-packages (from -r requirements.txt (line 82)) (1.10.7)\r\n",
      "Requirement already satisfied: Pygments==2.15.0 in /opt/anaconda3/lib/python3.8/site-packages (from -r requirements.txt (line 83)) (2.15.0)\r\n",
      "Requirement already satisfied: pypandoc==1.11 in /opt/anaconda3/lib/python3.8/site-packages (from -r requirements.txt (line 84)) (1.11)\r\n",
      "Requirement already satisfied: pyparsing==3.0.9 in /opt/anaconda3/lib/python3.8/site-packages (from -r requirements.txt (line 85)) (3.0.9)\r\n",
      "Requirement already satisfied: pytesseract==0.3.10 in /opt/anaconda3/lib/python3.8/site-packages (from -r requirements.txt (line 86)) (0.3.10)\r\n",
      "Requirement already satisfied: python-dateutil==2.8.2 in /opt/anaconda3/lib/python3.8/site-packages (from -r requirements.txt (line 87)) (2.8.2)\r\n",
      "Requirement already satisfied: python-docx==0.8.11 in /opt/anaconda3/lib/python3.8/site-packages (from -r requirements.txt (line 88)) (0.8.11)\r\n",
      "Requirement already satisfied: python-dotenv==1.0.0 in /opt/anaconda3/lib/python3.8/site-packages (from -r requirements.txt (line 89)) (1.0.0)\r\n",
      "Requirement already satisfied: python-magic==0.4.27 in /opt/anaconda3/lib/python3.8/site-packages (from -r requirements.txt (line 90)) (0.4.27)\r\n",
      "Requirement already satisfied: python-multipart==0.0.6 in /opt/anaconda3/lib/python3.8/site-packages (from -r requirements.txt (line 91)) (0.0.6)\r\n",
      "Requirement already satisfied: python-pptx==0.6.21 in /opt/anaconda3/lib/python3.8/site-packages (from -r requirements.txt (line 92)) (0.6.21)\r\n",
      "Requirement already satisfied: pytz==2023.3 in /opt/anaconda3/lib/python3.8/site-packages (from -r requirements.txt (line 93)) (2023.3)\r\n"
     ]
    },
    {
     "name": "stdout",
     "output_type": "stream",
     "text": [
      "Requirement already satisfied: PyYAML==6.0 in /opt/anaconda3/lib/python3.8/site-packages (from -r requirements.txt (line 94)) (6.0)\r\n",
      "Requirement already satisfied: rank-bm25==0.2.2 in /opt/anaconda3/lib/python3.8/site-packages (from -r requirements.txt (line 95)) (0.2.2)\r\n",
      "Requirement already satisfied: regex==2023.3.23 in /opt/anaconda3/lib/python3.8/site-packages (from -r requirements.txt (line 96)) (2023.3.23)\r\n",
      "Requirement already satisfied: requests==2.28.2 in /opt/anaconda3/lib/python3.8/site-packages (from -r requirements.txt (line 97)) (2.28.2)\r\n",
      "Requirement already satisfied: rfc3986==1.5.0 in /opt/anaconda3/lib/python3.8/site-packages (from -r requirements.txt (line 98)) (1.5.0)\r\n",
      "Requirement already satisfied: rich==13.0.1 in /opt/anaconda3/lib/python3.8/site-packages (from -r requirements.txt (line 99)) (13.0.1)\r\n",
      "Requirement already satisfied: safetensors==0.3.1 in /opt/anaconda3/lib/python3.8/site-packages (from -r requirements.txt (line 100)) (0.3.1)\r\n",
      "Requirement already satisfied: scikit-learn==1.2.2 in /opt/anaconda3/lib/python3.8/site-packages (from -r requirements.txt (line 101)) (1.2.2)\r\n",
      "Requirement already satisfied: scipy==1.10.1 in /opt/anaconda3/lib/python3.8/site-packages (from -r requirements.txt (line 102)) (1.10.1)\r\n",
      "Requirement already satisfied: sentence-transformers==2.2.2 in /opt/anaconda3/lib/python3.8/site-packages (from -r requirements.txt (line 103)) (2.2.2)\r\n",
      "Requirement already satisfied: sentencepiece==0.1.97 in /opt/anaconda3/lib/python3.8/site-packages (from -r requirements.txt (line 104)) (0.1.97)\r\n",
      "Requirement already satisfied: six==1.16.0 in /opt/anaconda3/lib/python3.8/site-packages (from -r requirements.txt (line 105)) (1.16.0)\r\n",
      "Requirement already satisfied: sniffio==1.3.0 in /opt/anaconda3/lib/python3.8/site-packages (from -r requirements.txt (line 106)) (1.3.0)\r\n",
      "Requirement already satisfied: SQLAlchemy==1.4.47 in /opt/anaconda3/lib/python3.8/site-packages (from -r requirements.txt (line 107)) (1.4.47)\r\n",
      "Requirement already satisfied: starlette==0.26.1 in /opt/anaconda3/lib/python3.8/site-packages (from -r requirements.txt (line 108)) (0.26.1)\r\n",
      "Requirement already satisfied: sympy==1.11.1 in /opt/anaconda3/lib/python3.8/site-packages (from -r requirements.txt (line 109)) (1.11.1)\r\n",
      "Requirement already satisfied: tabulate==0.9.0 in /opt/anaconda3/lib/python3.8/site-packages (from -r requirements.txt (line 110)) (0.9.0)\r\n",
      "Requirement already satisfied: tenacity==8.2.2 in /opt/anaconda3/lib/python3.8/site-packages (from -r requirements.txt (line 111)) (8.2.2)\r\n",
      "Requirement already satisfied: threadpoolctl==3.1.0 in /opt/anaconda3/lib/python3.8/site-packages (from -r requirements.txt (line 112)) (3.1.0)\r\n",
      "Requirement already satisfied: tiktoken==0.3.3 in /opt/anaconda3/lib/python3.8/site-packages (from -r requirements.txt (line 113)) (0.3.3)\r\n",
      "Requirement already satisfied: timm==0.9.2 in /opt/anaconda3/lib/python3.8/site-packages (from -r requirements.txt (line 114)) (0.9.2)\r\n",
      "Requirement already satisfied: tokenizers==0.13.3 in /opt/anaconda3/lib/python3.8/site-packages (from -r requirements.txt (line 115)) (0.13.3)\r\n",
      "Requirement already satisfied: torch==2.0.0 in /opt/anaconda3/lib/python3.8/site-packages (from -r requirements.txt (line 116)) (2.0.0)\r\n",
      "Requirement already satisfied: torchvision==0.15.1 in /opt/anaconda3/lib/python3.8/site-packages (from -r requirements.txt (line 117)) (0.15.1)\r\n",
      "Requirement already satisfied: tqdm==4.65.0 in /opt/anaconda3/lib/python3.8/site-packages (from -r requirements.txt (line 118)) (4.65.0)\r\n",
      "Requirement already satisfied: transformers==4.27.4 in /opt/anaconda3/lib/python3.8/site-packages (from -r requirements.txt (line 119)) (4.27.4)\r\n",
      "Requirement already satisfied: typing-inspect==0.8.0 in /opt/anaconda3/lib/python3.8/site-packages (from -r requirements.txt (line 120)) (0.8.0)\r\n",
      "Requirement already satisfied: typing_extensions==4.5.0 in /opt/anaconda3/lib/python3.8/site-packages (from -r requirements.txt (line 121)) (4.5.0)\r\n",
      "Requirement already satisfied: tzdata==2023.3 in /opt/anaconda3/lib/python3.8/site-packages (from -r requirements.txt (line 122)) (2023.3)\r\n",
      "Requirement already satisfied: unstructured==0.8.1 in /opt/anaconda3/lib/python3.8/site-packages (from -r requirements.txt (line 123)) (0.8.1)\r\n",
      "Requirement already satisfied: unstructured-inference==0.3.2 in /opt/anaconda3/lib/python3.8/site-packages (from -r requirements.txt (line 124)) (0.3.2)\r\n",
      "Requirement already satisfied: urllib3==1.26.15 in /opt/anaconda3/lib/python3.8/site-packages (from -r requirements.txt (line 125)) (1.26.15)\r\n",
      "Requirement already satisfied: uvicorn==0.21.1 in /opt/anaconda3/lib/python3.8/site-packages (from -r requirements.txt (line 126)) (0.21.1)\r\n",
      "Requirement already satisfied: uvloop==0.17.0 in /opt/anaconda3/lib/python3.8/site-packages (from -r requirements.txt (line 127)) (0.17.0)\r\n",
      "Requirement already satisfied: Wand==0.6.11 in /opt/anaconda3/lib/python3.8/site-packages (from -r requirements.txt (line 128)) (0.6.11)\r\n",
      "Requirement already satisfied: watchfiles==0.19.0 in /opt/anaconda3/lib/python3.8/site-packages (from -r requirements.txt (line 129)) (0.19.0)\r\n",
      "Requirement already satisfied: websockets==11.0.1 in /opt/anaconda3/lib/python3.8/site-packages (from -r requirements.txt (line 130)) (11.0.1)\r\n",
      "Requirement already satisfied: wrapt==1.14.1 in /opt/anaconda3/lib/python3.8/site-packages (from -r requirements.txt (line 131)) (1.14.1)\r\n",
      "Requirement already satisfied: xlrd==2.0.1 in /opt/anaconda3/lib/python3.8/site-packages (from -r requirements.txt (line 132)) (2.0.1)\r\n",
      "Requirement already satisfied: XlsxWriter==3.0.9 in /opt/anaconda3/lib/python3.8/site-packages (from -r requirements.txt (line 133)) (3.0.9)\r\n",
      "Requirement already satisfied: yarl==1.8.2 in /opt/anaconda3/lib/python3.8/site-packages (from -r requirements.txt (line 134)) (1.8.2)\r\n",
      "Requirement already satisfied: zipp==3.16.1 in /opt/anaconda3/lib/python3.8/site-packages (from -r requirements.txt (line 135)) (3.16.1)\r\n",
      "Requirement already satisfied: zstandard==0.20.0 in /opt/anaconda3/lib/python3.8/site-packages (from -r requirements.txt (line 136)) (0.20.0)\r\n"
     ]
    }
   ],
   "source": [
    "import sys\n",
    "!{sys.executable} -m pip install -r requirements.txt"
   ]
  },
  {
   "cell_type": "markdown",
   "id": "2fc31403",
   "metadata": {},
   "source": [
    "### Imports"
   ]
  },
  {
   "cell_type": "code",
   "execution_count": 4,
   "id": "b7fbc67d",
   "metadata": {},
   "outputs": [
    {
     "name": "stderr",
     "output_type": "stream",
     "text": [
      "[nltk_data] Downloading package punkt to /Users/eeilstein/nltk_data...\n",
      "[nltk_data]   Package punkt is already up-to-date!\n"
     ]
    }
   ],
   "source": [
    "import os\n",
    "import uuid\n",
    "import subprocess\n",
    "import glob\n",
    "from sklearn.feature_extraction.text import TfidfVectorizer\n",
    "from sklearn.metrics.pairwise import cosine_similarity\n",
    "from langchain.document_loaders i\n",
    "mport DirectoryLoader, NotebookLoader, UnstructuredFileLoader\n",
    "from langchain.text_splitter import RecursiveCharacterTextSplitter\n",
    "from utils import clean_and_tokenize\n",
    "import unicodedata\n",
    "from dotenv import load_dotenv\n",
    "\n",
    "from langchain.vectorstores import Chroma\n",
    "from langchain.embeddings import OpenAIEmbeddings\n",
    "from langchain.llms import OpenAI\n",
    "from langchain.chains import RetrievalQA\n",
    "from langchain.chat_models import ChatOpenAI"
   ]
  },
  {
   "cell_type": "markdown",
   "id": "c388cd12",
   "metadata": {},
   "source": [
    "### Config"
   ]
  },
  {
   "cell_type": "code",
   "execution_count": 332,
   "id": "cf1cbe34",
   "metadata": {},
   "outputs": [],
   "source": [
    "#config.py\n",
    "WHITE = \"\\033[37m\"\n",
    "GREEN = \"\\033[32m\"\n",
    "PURPLE = \"\\033[35m\"\n",
    "RESET_COLOR = \"\\033[0m\"\n",
    "NUM_SOURCE_DOCS = 8\n",
    "model_name = \"gpt-3.5-turbo-16k\" # VERIFIED \n",
    "# model_name = \"gpt-3.5-turbo\" # VERIFIED\n",
    "# model_name = \"gpt-4-32k\" # NOPE\n",
    "# model_name = \"gpt-4\" # NOPE\n"
   ]
  },
  {
   "cell_type": "markdown",
   "id": "5bf93d21",
   "metadata": {},
   "source": [
    "### load_and_index_files"
   ]
  },
  {
   "cell_type": "code",
   "execution_count": 361,
   "id": "ee328185",
   "metadata": {},
   "outputs": [],
   "source": [
    "\n",
    "def load_and_index_files(repo_path):\n",
    "#     extensions = ['txt', 'md', 'markdown', 'rst', 'py', 'js', 'java', 'c', 'cpp', 'cs', 'go', 'rb', 'php', 'scala',\n",
    "#                   'html', 'htm', 'xml', 'json', 'yaml', 'yml', 'ini', 'toml', 'cfg', 'conf', 'sh', 'bash', 'css',\n",
    "#                   'scss', 'sql', 'gitignore', 'dockerignore', 'editorconfig', 'ipynb']\n",
    "    extensions = ['py', 'sql']\n",
    "    file_type_counts = {}\n",
    "    documents_dict = {}\n",
    "\n",
    "    texts = []\n",
    "    for ext in extensions:\n",
    "        text_splitter = RecursiveCharacterTextSplitter(chunk_size=4_000, chunk_overlap=200)\n",
    "        glob_pattern = f'**/*.{ext}'\n",
    "        try:\n",
    "            loader = None\n",
    "            if ext == 'ipynb':\n",
    "                # Get a list of all .ipynb files in the directory\n",
    "                notebook_files = glob.glob(f'{repo_path}/**/*.{ext}', recursive=True)\n",
    "\n",
    "                loaded_documents = []\n",
    "                # Load each file using NotebookLoader\n",
    "                for file in notebook_files:\n",
    "                    if 'archive' in file.split(os.sep):\n",
    "                        continue  # Skip files in 'archive' folder\n",
    "                    loader = NotebookLoader(file, include_outputs=True, max_output_length=20, remove_newline=True)\n",
    "                    documents = loader.load()\n",
    "                    loaded_documents += documents\n",
    "\n",
    "            else:\n",
    "                loader = DirectoryLoader(repo_path, glob=glob_pattern, loader_kwargs={\"content_type\": \"text/plain\"})\n",
    "                loaded_documents = []\n",
    "                if callable(loader.load):\n",
    "                    all_documents = loader.load()\n",
    "                    # Exclude documents located in 'archive' folders\n",
    "                    for doc in all_documents:\n",
    "                        file_path = doc.metadata['source']\n",
    "                        if 'archive' not in file_path.split(os.sep):\n",
    "                            loaded_documents.append(doc)\n",
    "#                         if ext == 'py':\n",
    "#                             print(file_path)\n",
    "                            \n",
    "            if loaded_documents:\n",
    "                print(f'[LOG] {ext} loaded!')\n",
    "                file_type_counts[ext] = len(loaded_documents)\n",
    "                for doc in loaded_documents:\n",
    "                    file_path = doc.metadata['source']\n",
    "                    relative_path = os.path.relpath(file_path, repo_path)\n",
    "                    file_id = str(uuid.uuid4())\n",
    "                    doc.metadata['source'] = relative_path\n",
    "                    doc.metadata['file_id'] = file_id\n",
    "\n",
    "                    documents_dict[file_id] = doc\n",
    "\n",
    "            texts += text_splitter.split_documents(loaded_documents)\n",
    "        except Exception as e:\n",
    "            print(f\"Error loading files with pattern '{glob_pattern}': {e}\")\n",
    "            # print(traceback.format_exc())\n",
    "            continue\n",
    "\n",
    "    return texts\n"
   ]
  },
  {
   "cell_type": "markdown",
   "id": "8da653bc",
   "metadata": {},
   "source": [
    "#### repo funcs"
   ]
  },
  {
   "cell_type": "code",
   "execution_count": 362,
   "id": "e0777624",
   "metadata": {},
   "outputs": [],
   "source": [
    "def extract_repo_name(repo_url):\n",
    "    # Extract the part of the URL after the last slash and before .git\n",
    "    repo_name = repo_url.split('/')[-1]\n",
    "    if repo_name.endswith('.git'):\n",
    "        repo_name = repo_name[:-4]  # remove .git from the end\n",
    "    return repo_name\n",
    "\n",
    "\n",
    "\n",
    "def is_repo_cloned(repo_url, path_dir):\n",
    "    repo_name = extract_repo_name(repo_url)\n",
    "    repo_path = os.path.join(path_dir, repo_name)\n",
    "    return os.path.isdir(repo_path)\n",
    "\n",
    "def clone_github_repo(github_url, local_path):\n",
    "    try:\n",
    "        subprocess.run(['git', 'clone', github_url, local_path], check=True)\n",
    "        return True\n",
    "    except subprocess.CalledProcessError as e:\n",
    "        print(f\"Failed to clone repository: {e}\")\n",
    "        return False"
   ]
  },
  {
   "cell_type": "markdown",
   "id": "79863351",
   "metadata": {},
   "source": [
    "## Start the Script!"
   ]
  },
  {
   "cell_type": "code",
   "execution_count": 363,
   "id": "11080160",
   "metadata": {},
   "outputs": [],
   "source": [
    "load_dotenv()\n",
    "OPENAI_API_KEY = os.getenv(\"OPENAI_API_KEY\")\n",
    "# github_url = r\"https://github.com/cmooredev/RepoReader\"\n",
    "github_url = r\"https://github.com/Lightricks/dwh-data-model-transforms\"\n",
    "repo_name = extract_repo_name(github_url)\n",
    "local_path = 'stat_path_repos'"
   ]
  },
  {
   "cell_type": "markdown",
   "id": "d818a63a",
   "metadata": {},
   "source": [
    "### Clone repo"
   ]
  },
  {
   "cell_type": "code",
   "execution_count": 364,
   "id": "fb931958",
   "metadata": {},
   "outputs": [
    {
     "name": "stdout",
     "output_type": "stream",
     "text": [
      "[LOG] is repo dwh-data-model-transforms already cloned? True\n"
     ]
    }
   ],
   "source": [
    "_is_repo_cloned = is_repo_cloned(github_url, local_path)\n",
    "print(f'[LOG] is repo {repo_name} already cloned? {_is_repo_cloned}')\n",
    "\n",
    "# if the repo is already cloned in the static path, then skip cloning. If not, clone it in the static path\n",
    "repo_condition = clone_github_repo(github_url, os.path.join(local_path, repo_name)) if not _is_repo_cloned else True"
   ]
  },
  {
   "cell_type": "markdown",
   "id": "9494bac9",
   "metadata": {},
   "source": [
    "### Process the repo from local dir"
   ]
  },
  {
   "cell_type": "code",
   "execution_count": 365,
   "id": "8e33b9f7",
   "metadata": {},
   "outputs": [
    {
     "name": "stdout",
     "output_type": "stream",
     "text": [
      "[LOG] py loaded!\n",
      "[LOG] sql loaded!\n",
      "Done\n"
     ]
    }
   ],
   "source": [
    "\n",
    "texts = load_and_index_files(os.path.join(local_path, repo_name))\n",
    "\n",
    "print(\"Done\")"
   ]
  },
  {
   "cell_type": "markdown",
   "id": "0fbdaaa1",
   "metadata": {},
   "source": [
    "### Reset our Chroma Vector DB"
   ]
  },
  {
   "cell_type": "code",
   "execution_count": 366,
   "id": "86a71ddb",
   "metadata": {},
   "outputs": [],
   "source": [
    "try:\n",
    "    # # To cleanup, you can delete the collection\n",
    "    vectordb.delete_collection()\n",
    "    vectordb.persist()\n",
    "except:\n",
    "    print(\"Passed\")\n",
    "\n",
    "\n",
    "persist_directory = f'db_{repo_name}'\n",
    "embedding = OpenAIEmbeddings()\n"
   ]
  },
  {
   "cell_type": "markdown",
   "id": "eb039242",
   "metadata": {},
   "source": [
    "### [Optional] Create it from scratch"
   ]
  },
  {
   "cell_type": "code",
   "execution_count": 367,
   "id": "6eb1398e",
   "metadata": {},
   "outputs": [
    {
     "name": "stderr",
     "output_type": "stream",
     "text": [
      "Using embedded DuckDB with persistence: data will be stored in: db_dwh-data-model-transforms\n"
     ]
    }
   ],
   "source": [
    "\n",
    "\"\"\"## create the DB\"\"\"\n",
    "\n",
    "# Embed and store the texts\n",
    "# Supplying a persist_directory will store the embeddings on disk\n",
    "\n",
    "## here we are using OpenAI embeddings but in future we will swap out to local embeddings\n",
    "\n",
    "vectordb = Chroma.from_documents(documents=texts,\n",
    "                                 embedding=embedding,\n",
    "                                 persist_directory=persist_directory)\n"
   ]
  },
  {
   "cell_type": "markdown",
   "id": "4efa5877",
   "metadata": {},
   "source": [
    "### Call it from the persisted DB (if already exists)"
   ]
  },
  {
   "cell_type": "code",
   "execution_count": 368,
   "id": "995d5ab6",
   "metadata": {},
   "outputs": [
    {
     "name": "stderr",
     "output_type": "stream",
     "text": [
      "Using embedded DuckDB with persistence: data will be stored in: db_dwh-data-model-transforms\n"
     ]
    }
   ],
   "source": [
    "\n",
    "# persiste the db to disk\n",
    "vectordb.persist()\n",
    "vectordb = None\n",
    "\n",
    "# Now we can load the persisted database from disk, and use it as normal.\n",
    "vectordb = Chroma(persist_directory=persist_directory,\n",
    "                  embedding_function=embedding)"
   ]
  },
  {
   "cell_type": "code",
   "execution_count": 369,
   "id": "335e9516",
   "metadata": {},
   "outputs": [
    {
     "data": {
      "text/plain": [
       "5"
      ]
     },
     "execution_count": 369,
     "metadata": {},
     "output_type": "execute_result"
    }
   ],
   "source": [
    "# Overwrite:\n",
    "NUM_SOURCE_DOCS = 5\n",
    "retriever = vectordb.as_retriever(search_kwargs={\"k\": NUM_SOURCE_DOCS})\n",
    "\n",
    "docs = retriever.get_relevant_documents(\"How much money did iOS raise?\")\n",
    "\n",
    "len(docs)"
   ]
  },
  {
   "cell_type": "markdown",
   "id": "4df6abe8",
   "metadata": {},
   "source": [
    "## Make a chain"
   ]
  },
  {
   "cell_type": "code",
   "execution_count": 370,
   "id": "706abdc6",
   "metadata": {},
   "outputs": [],
   "source": [
    "# create the chain to answer questions\n",
    "qa_chain = RetrievalQA.from_chain_type(llm=OpenAI(),\n",
    "                                  chain_type=\"stuff\",\n",
    "                                  retriever=retriever,\n",
    "                                  return_source_documents=True)\n"
   ]
  },
  {
   "cell_type": "markdown",
   "id": "132156d2",
   "metadata": {},
   "source": [
    "### Process answer func"
   ]
  },
  {
   "cell_type": "code",
   "execution_count": 371,
   "id": "ca3b1894",
   "metadata": {},
   "outputs": [],
   "source": [
    "def process_llm_response(llm_response):\n",
    "    answer = llm_response['result']\n",
    "    print(GREEN + '\\nANSWER\\n' + answer + RESET_COLOR + '\\n')\n",
    "    print('\\n\\nSources:')\n",
    "    for source in llm_response[\"source_documents\"]:\n",
    "        print(source.metadata['source'])\n",
    "    return llm_response['result']\n"
   ]
  },
  {
   "cell_type": "markdown",
   "id": "9cfdbc86",
   "metadata": {},
   "source": [
    "## Call the LLM API"
   ]
  },
  {
   "cell_type": "code",
   "execution_count": 372,
   "id": "daade369",
   "metadata": {},
   "outputs": [],
   "source": [
    "turbo_llm = ChatOpenAI(\n",
    "    temperature=0.2,\n",
    "    model_name=model_name,\n",
    "\n",
    ")"
   ]
  },
  {
   "cell_type": "markdown",
   "id": "7deaf26f",
   "metadata": {},
   "source": [
    "### Integrate LLM API and source-docs in the Chain"
   ]
  },
  {
   "cell_type": "code",
   "execution_count": 373,
   "id": "786332ae",
   "metadata": {},
   "outputs": [],
   "source": [
    "# create the chain to answer questions\n",
    "qa_chain = RetrievalQA.from_chain_type(llm=turbo_llm,\n",
    "                                  chain_type=\"stuff\",\n",
    "                                  retriever=retriever,\n",
    "                                  return_source_documents=True)\n"
   ]
  },
  {
   "cell_type": "markdown",
   "id": "719fad95",
   "metadata": {},
   "source": [
    "### Set the prompt template"
   ]
  },
  {
   "cell_type": "code",
   "execution_count": 374,
   "id": "226973ba",
   "metadata": {},
   "outputs": [],
   "source": [
    "conversation_history = \"\"\n",
    "context =  \"\"\"Repo: {repo_name} ({github_url}) | | Conversation history: {conversation_history}\n",
    "\n",
    "            Instructions:\n",
    "            1. Answer based on context/docs.\n",
    "            2. Focus on repo/code.\n",
    "            3. Consider:\n",
    "                a. Purpose/features - describe.\n",
    "                b. Functions/code - provide details/samples.\n",
    "                c. Setup/usage - give instructions.\n",
    "            4. SQL Syntax is Bigquery\n",
    "            5. Unsure? Say \"I am not sure\".\n",
    "\n",
    "\n",
    "    Question: {question}\n",
    "    Answer:\n",
    "\"\"\"\n",
    "kw = {\"repo_name\":repo_name, \"github_url\":github_url, \"conversation_history\":conversation_history, \"numbered_documents\":\"numbered_documents\", \"file_type_counts\":\"file_type_counts\", \"filenames\":\"filenames\"}"
   ]
  },
  {
   "cell_type": "markdown",
   "id": "0dc8c522",
   "metadata": {},
   "source": [
    "# Start chatting!"
   ]
  },
  {
   "cell_type": "code",
   "execution_count": 375,
   "id": "3b9bcb9b",
   "metadata": {},
   "outputs": [
    {
     "name": "stdout",
     "output_type": "stream",
     "text": [
      "\n",
      "Ask a question about the repository, BE SPECIFIC ('exit' to quit): do you see \"unified_devices\"? explain\n",
      "\u001b[0m\n",
      "Thinking...\n",
      "\u001b[32m\n",
      "ANSWER\n",
      "Yes, I see the \"unified_devices\" model in the dwh-data-model-transforms repository. This model is used to create a table that combines device information from both iOS and Android applications. It includes fields such as platform, application, lt_defacto_id, icloud_id, install_time, first_launch, and more. The model uses the \"unified_device_info_log\" table as a source for the device information.\u001b[0m\n",
      "\n",
      "\n",
      "\n",
      "Sources:\n",
      "models/general/unified/unified_devices.sql\n",
      "models/global/unified_devices/unified_devices_global.sql\n",
      "models/general/attribution_and_unified_devices_sources/unified_device_info_log.sql\n",
      "models/general/purchase_and_devices/manipulated_devices_table.sql\n",
      "models/global/unified_device_info_log/unified_device_info_log_legacy.sql\n",
      "\n",
      "Ask a question about the repository, BE SPECIFIC ('exit' to quit): what are its sources?\n",
      "\u001b[0m\n",
      "Thinking...\n",
      "\u001b[32m\n",
      "ANSWER\n",
      "The \"unified_devices\" model in the dwh-data-model-transforms repository sources its data from the \"unified_device_info_log\" table. This table contains device information for both iOS and Android applications.\u001b[0m\n",
      "\n",
      "\n",
      "\n",
      "Sources:\n",
      "models/general/attribution_and_unified_devices_sources/unified_device_info_log.sql\n",
      "models/global/unified_device_info_log/unified_device_info_log_legacy.sql\n",
      "models/general/unified/unified_devices.sql\n",
      "models/global/unified_devices/unified_devices_global.sql\n",
      "models/global/unified_devices/unified_devices_global.sql\n",
      "\n",
      "Ask a question about the repository, BE SPECIFIC ('exit' to quit): what is its granularity\n",
      "\u001b[0m\n",
      "Thinking...\n",
      "\u001b[32m\n",
      "ANSWER\n",
      "The \"unified_devices\" model in the dwh-data-model-transforms repository has a granularity of individual devices. It provides device-level information such as device ID, installation ID, iCloud ID, Android ID, device info ID, install time, app version, device country, app store country, and other device-related details.\u001b[0m\n",
      "\n",
      "\n",
      "\n",
      "Sources:\n",
      "models/general/attribution_and_unified_devices_sources/unified_device_info_log.sql\n",
      "models/global/unified_device_info_log/unified_device_info_log_legacy.sql\n",
      "models/general/unified/unified_devices.sql\n",
      "models/global/unified_devices/unified_devices_global.sql\n",
      "models/global/unified_devices/unified_devices_global.sql\n",
      "\n",
      "Ask a question about the repository, BE SPECIFIC ('exit' to quit): what is it grouped by\n",
      "\u001b[0m\n",
      "Thinking...\n",
      "\u001b[32m\n",
      "ANSWER\n",
      "The \"unified_devices\" model in the dwh-data-model-transforms repository is grouped by the \"application\" field. This means that the device-level information is grouped and organized based on the specific application that the device is associated with.\u001b[0m\n",
      "\n",
      "\n",
      "\n",
      "Sources:\n",
      "models/general/unified/unified_devices.sql\n",
      "models/general/attribution_and_unified_devices_sources/unified_device_info_log.sql\n",
      "models/global/unified_device_info_log/unified_device_info_log_legacy.sql\n",
      "models/general/attribution/ulei/ulei_all_devices_and_af_info.sql\n",
      "models/general/unified_hourly/unified_app_foregrounded.sql\n",
      "\n",
      "Ask a question about the repository, BE SPECIFIC ('exit' to quit): exit\n",
      "\u001b[0m\n"
     ]
    }
   ],
   "source": [
    "\n",
    "while True:\n",
    "    query = input(PURPLE + \"\\nAsk a question about the repository, BE SPECIFIC ('exit' to quit): \")\n",
    "    print(RESET_COLOR)\n",
    "    if query[:4].lower() == \"exit\":\n",
    "        break\n",
    "    print('Thinking...')\n",
    "\n",
    "    kw = {\"repo_name\":repo_name, \"github_url\":github_url, \"conversation_history\":conversation_history, \"numbered_documents\":\"numbered_documents\", \"file_type_counts\":\"file_type_counts\", \"filenames\":\"filenames\"}\n",
    "    llm_response = qa_chain(context.format(question=query, **kw))\n",
    "    result = process_llm_response(llm_response)\n",
    "\n",
    "    conversation_history = f'Last Question: {query} \\nLast Answer: {result}'"
   ]
  },
  {
   "cell_type": "code",
   "execution_count": null,
   "id": "34a9a99b",
   "metadata": {},
   "outputs": [],
   "source": []
  }
 ],
 "metadata": {
  "kernelspec": {
   "display_name": "Python 3",
   "language": "python",
   "name": "python3"
  },
  "language_info": {
   "codemirror_mode": {
    "name": "ipython",
    "version": 3
   },
   "file_extension": ".py",
   "mimetype": "text/x-python",
   "name": "python",
   "nbconvert_exporter": "python",
   "pygments_lexer": "ipython3",
   "version": "3.8.8"
  }
 },
 "nbformat": 4,
 "nbformat_minor": 5
}
